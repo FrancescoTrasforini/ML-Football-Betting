{
 "cells": [
  {
   "cell_type": "code",
   "execution_count": 1,
   "metadata": {},
   "outputs": [
    {
     "data": {
      "text/plain": [
       "[1000]"
      ]
     },
     "execution_count": 1,
     "metadata": {},
     "output_type": "execute_result"
    }
   ],
   "source": [
    "import numpy as np\n",
    "\n",
    "bankroll = []\n",
    "bankroll.append(1000)\n",
    "bankroll"
   ]
  },
  {
   "cell_type": "code",
   "execution_count": 2,
   "metadata": {},
   "outputs": [],
   "source": [
    "kelly = 0.024\n",
    "average = 1.268"
   ]
  },
  {
   "cell_type": "code",
   "execution_count": 3,
   "metadata": {},
   "outputs": [],
   "source": [
    "betresult = []\n",
    "betsize = []\n",
    "\n",
    "for i in range (50000):\n",
    "    betsize.append(bankroll[i] * kelly)\n",
    "    betresult.append(np.random.choice([0,1],p = [0.55,0.45]))\n",
    "    if(betresult[i] == 0):\n",
    "        bankroll.append(bankroll[i] - betsize[i])\n",
    "    if(betresult[i] == 1):\n",
    "        bankroll.append(bankroll[i] + betsize[i]*average)\n",
    "    "
   ]
  },
  {
   "cell_type": "code",
   "execution_count": 12,
   "metadata": {},
   "outputs": [
    {
     "data": {
      "text/plain": [
       "2262.8881912156858"
      ]
     },
     "execution_count": 12,
     "metadata": {},
     "output_type": "execute_result"
    }
   ],
   "source": [
    "bankroll[125]"
   ]
  },
  {
   "cell_type": "code",
   "execution_count": 4,
   "metadata": {},
   "outputs": [
    {
     "data": {
      "text/plain": [
       "[315749.68487223244,\n",
       " 308171.6924352989,\n",
       " 317549.9733794899,\n",
       " 327213.65416937455,\n",
       " 337171.420093057,\n",
       " 329079.30601082364,\n",
       " 339093.847451345,\n",
       " 330955.5951125127,\n",
       " 341027.23578297667,\n",
       " 332842.5821241852]"
      ]
     },
     "execution_count": 4,
     "metadata": {},
     "output_type": "execute_result"
    }
   ],
   "source": [
    "bankroll[-10:]"
   ]
  },
  {
   "cell_type": "code",
   "execution_count": 5,
   "metadata": {},
   "outputs": [
    {
     "data": {
      "text/plain": [
       "[<matplotlib.lines.Line2D at 0x8490470>]"
      ]
     },
     "execution_count": 5,
     "metadata": {},
     "output_type": "execute_result"
    },
    {
     "data": {
      "image/png": "[encoded data removed]",
      "text/plain": [
       "<Figure size 432x288 with 1 Axes>"
      ]
     },
     "metadata": {},
     "output_type": "display_data"
    }
   ],
   "source": [
    "%matplotlib inline\n",
    "import matplotlib.pyplot as plt\n",
    "plt.style.use('seaborn-whitegrid')\n",
    "fig = plt.figure()\n",
    "ax = plt.axes()\n",
    "x = np.linspace(0,100000,num = 50001)\n",
    "ax.plot(x,bankroll)"
   ]
  },
  {
   "cell_type": "code",
   "execution_count": 6,
   "metadata": {},
   "outputs": [
    {
     "data": {
      "text/plain": [
       "[7354.189734920479,\n",
       " 7577.992436933579,\n",
       " 7396.120618447173,\n",
       " 7621.199361107758,\n",
       " 7853.12770006499,\n",
       " 8092.114082233367,\n",
       " 7897.903344259767,\n",
       " 8138.252338832281,\n",
       " 7942.934282700305,\n",
       " 8184.653658791441]"
      ]
     },
     "execution_count": 6,
     "metadata": {},
     "output_type": "execute_result"
    }
   ],
   "source": [
    "betsize[-10:]"
   ]
  },
  {
   "cell_type": "code",
   "execution_count": null,
   "metadata": {},
   "outputs": [],
   "source": []
  }
 ],
 "metadata": {
  "kernelspec": {
   "display_name": "Python 3",
   "language": "python",
   "name": "python3"
  },
  "language_info": {
   "codemirror_mode": {
    "name": "ipython",
    "version": 3
   },
   "file_extension": ".py",
   "mimetype": "text/x-python",
   "name": "python",
   "nbconvert_exporter": "python",
   "pygments_lexer": "ipython3",
   "version": "3.7.3"
  }
 },
 "nbformat": 4,
 "nbformat_minor": 2
}
