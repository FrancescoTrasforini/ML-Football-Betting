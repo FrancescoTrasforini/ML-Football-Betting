{
 "cells": [
  {
   "cell_type": "code",
   "execution_count": 1,
   "metadata": {},
   "outputs": [],
   "source": [
    "# file dall'anno 2008 al 2018\n",
    "import pandas as pd\n",
    "from pandas import ExcelWriter\n",
    "from pandas import ExcelFile\n",
    "\n",
    "file = []\n",
    "#file.append(\"D:/Bets/eurodata/all-euro-data-2008-2009.xls\")\n",
    "#file.append(\"D:/Bets/eurodata/all-euro-data-2009-2010.xls\")\n",
    "#file.append(\"D:/Bets/eurodata/all-euro-data-2010-2011.xls\")\n",
    "#file.append(\"D:/Bets/eurodata/all-euro-data-2011-2012.xls\")\n",
    "#file.append(\"D:/Bets/eurodata/all-euro-data-2012-2013.xls\")\n",
    "#file.append(\"D:/Bets/eurodata/all-euro-data-2013-2014.xls\")\n",
    "#file.append(\"D:/Bets/eurodata/all-euro-data-2014-2015.xls\")\n",
    "#file.append(\"D:/Bets/eurodata/all-euro-data-2015-2016.xls\")\n",
    "file.append(\"D:/Bets/eurodata/all-euro-data-2016-2017.xls\")\n",
    "file.append(\"D:/Bets/eurodata/all-euro-data-2017-2018.xlsx\")\n",
    "file.append(\"D:/Bets/eurodata/all-euro-data-2018-2019.xlsx\")\n"
   ]
  },
  {
   "cell_type": "code",
   "execution_count": 2,
   "metadata": {},
   "outputs": [],
   "source": [
    "# dati di 7 bookmakers presenti in ogni anno\n",
    "df = pd.DataFrame(index=[],columns=[])\n",
    "\n",
    "for i in range (0,len(file)):\n",
    "    xls = pd.ExcelFile(file[i])\n",
    "    for sheet_count in range(0,22):\n",
    "        df = df.append(pd.read_excel(xls, sheet_name = sheet_count, usecols = ['FTR',\n",
    "                                                                               'B365H', 'B365D', 'B365A', \n",
    "                                                                               'BWH', 'BWD', 'BWA', 'IWH', 'IWD', 'IWA', \n",
    "                                                                               'WHH', 'WHD', 'WHA', 'VCH', 'VCD', 'VCA',\n",
    "                                                                              'PSH', 'PSD', 'PSA', 'PSCH', 'PSCD', 'PSCA']))"
   ]
  },
  {
   "cell_type": "code",
   "execution_count": 3,
   "metadata": {},
   "outputs": [],
   "source": [
    "df['FTR'] = df['FTR'].replace('H',0)\n",
    "df['FTR'] = df['FTR'].replace('D',1)\n",
    "df['FTR'] = df['FTR'].replace('A',2)"
   ]
  },
  {
   "cell_type": "code",
   "execution_count": 4,
   "metadata": {},
   "outputs": [],
   "source": [
    "# cancello le righe con elementi vuoti\n",
    "ndf = df.dropna()"
   ]
  },
  {
   "cell_type": "code",
   "execution_count": 5,
   "metadata": {},
   "outputs": [],
   "source": [
    "target = pd.DataFrame(index=[],columns=[])\n",
    "target = target.append(ndf[['FTR']])"
   ]
  },
  {
   "cell_type": "code",
   "execution_count": 6,
   "metadata": {},
   "outputs": [],
   "source": [
    "ndf = df.drop(['FTR'],axis=1)"
   ]
  },
  {
   "cell_type": "code",
   "execution_count": 7,
   "metadata": {},
   "outputs": [],
   "source": [
    "# normalizzo il training dataset\n",
    "from sklearn import preprocessing\n",
    "norm_data = preprocessing.normalize(ndf)\n",
    "norm_data = norm_data.astype('float')"
   ]
  },
  {
   "cell_type": "code",
   "execution_count": 8,
   "metadata": {},
   "outputs": [],
   "source": [
    "norm_data_df = pd.DataFrame(norm_data, columns=ndf.columns)"
   ]
  },
  {
   "cell_type": "code",
   "execution_count": 9,
   "metadata": {},
   "outputs": [
    {
     "name": "stderr",
     "output_type": "stream",
     "text": [
      "C:\\Users\\Francesco\\Miniconda3\\lib\\site-packages\\sklearn\\utils\\validation.py:761: DataConversionWarning: A column-vector y was passed when a 1d array was expected. Please change the shape of y to (n_samples, ), for example using ravel().\n",
      "  y = column_or_1d(y, warn=True)\n",
      "C:\\Users\\Francesco\\Miniconda3\\lib\\site-packages\\sklearn\\utils\\validation.py:761: DataConversionWarning: A column-vector y was passed when a 1d array was expected. Please change the shape of y to (n_samples, ), for example using ravel().\n",
      "  y = column_or_1d(y, warn=True)\n",
      "C:\\Users\\Francesco\\Miniconda3\\lib\\site-packages\\sklearn\\utils\\validation.py:761: DataConversionWarning: A column-vector y was passed when a 1d array was expected. Please change the shape of y to (n_samples, ), for example using ravel().\n",
      "  y = column_or_1d(y, warn=True)\n",
      "C:\\Users\\Francesco\\Miniconda3\\lib\\site-packages\\sklearn\\utils\\validation.py:761: DataConversionWarning: A column-vector y was passed when a 1d array was expected. Please change the shape of y to (n_samples, ), for example using ravel().\n",
      "  y = column_or_1d(y, warn=True)\n",
      "C:\\Users\\Francesco\\Miniconda3\\lib\\site-packages\\sklearn\\utils\\validation.py:761: DataConversionWarning: A column-vector y was passed when a 1d array was expected. Please change the shape of y to (n_samples, ), for example using ravel().\n",
      "  y = column_or_1d(y, warn=True)\n",
      "C:\\Users\\Francesco\\Miniconda3\\lib\\site-packages\\sklearn\\utils\\validation.py:761: DataConversionWarning: A column-vector y was passed when a 1d array was expected. Please change the shape of y to (n_samples, ), for example using ravel().\n",
      "  y = column_or_1d(y, warn=True)\n",
      "C:\\Users\\Francesco\\Miniconda3\\lib\\site-packages\\sklearn\\utils\\validation.py:761: DataConversionWarning: A column-vector y was passed when a 1d array was expected. Please change the shape of y to (n_samples, ), for example using ravel().\n",
      "  y = column_or_1d(y, warn=True)\n",
      "C:\\Users\\Francesco\\Miniconda3\\lib\\site-packages\\sklearn\\utils\\validation.py:761: DataConversionWarning: A column-vector y was passed when a 1d array was expected. Please change the shape of y to (n_samples, ), for example using ravel().\n",
      "  y = column_or_1d(y, warn=True)\n",
      "C:\\Users\\Francesco\\Miniconda3\\lib\\site-packages\\sklearn\\utils\\validation.py:761: DataConversionWarning: A column-vector y was passed when a 1d array was expected. Please change the shape of y to (n_samples, ), for example using ravel().\n",
      "  y = column_or_1d(y, warn=True)\n",
      "C:\\Users\\Francesco\\Miniconda3\\lib\\site-packages\\sklearn\\utils\\validation.py:761: DataConversionWarning: A column-vector y was passed when a 1d array was expected. Please change the shape of y to (n_samples, ), for example using ravel().\n",
      "  y = column_or_1d(y, warn=True)\n"
     ]
    },
    {
     "name": "stdout",
     "output_type": "stream",
     "text": [
      "svm: 0.464276 (0.020076)\n"
     ]
    }
   ],
   "source": [
    "#valuto il modello svc multiclasse con decision function shape one vs one\n",
    "\n",
    "from sklearn import model_selection\n",
    "from sklearn.svm import SVC\n",
    "name = 'svm'\n",
    "results = []\n",
    "scoring = 'accuracy'\n",
    "seed = 7\n",
    "kfold = model_selection.KFold(n_splits=10, random_state=seed)\n",
    "model = SVC(kernel = 'rbf', cache_size = 1000, gamma = 'scale', shrinking = True, class_weight = 'balanced',\n",
    "            decision_function_shape = 'ovo')\n",
    "cv_results = model_selection.cross_val_score(model, norm_data_df, target, cv=kfold, scoring=scoring)\n",
    "results.append(cv_results)\n",
    "msg = \"%s: %f (%f)\" % (name, cv_results.mean(), cv_results.std())\n",
    "print(msg)"
   ]
  },
  {
   "cell_type": "code",
   "execution_count": 10,
   "metadata": {},
   "outputs": [
    {
     "name": "stderr",
     "output_type": "stream",
     "text": [
      "C:\\Users\\Francesco\\Miniconda3\\lib\\site-packages\\sklearn\\utils\\validation.py:761: DataConversionWarning: A column-vector y was passed when a 1d array was expected. Please change the shape of y to (n_samples, ), for example using ravel().\n",
      "  y = column_or_1d(y, warn=True)\n"
     ]
    },
    {
     "data": {
      "text/plain": [
       "SVC(C=1.0, cache_size=1000, class_weight='balanced', coef0=0.0,\n",
       "  decision_function_shape='ovo', degree=3, gamma='scale', kernel='rbf',\n",
       "  max_iter=-1, probability=False, random_state=None, shrinking=True,\n",
       "  tol=0.001, verbose=False)"
      ]
     },
     "execution_count": 10,
     "metadata": {},
     "output_type": "execute_result"
    }
   ],
   "source": [
    "model.fit(norm_data_df,target)"
   ]
  },
  {
   "cell_type": "code",
   "execution_count": 11,
   "metadata": {},
   "outputs": [],
   "source": [
    "# creo il dataframe su cui fare predizioni\n",
    "\n",
    "df_p = pd.DataFrame(index=[],columns=[])\n",
    "\n",
    "file_p = []\n",
    "file_p.append(\"D:/Bets/eurodata/all-euro-data-2019-2020.xlsx\")\n",
    "\n",
    "xls_p = pd.ExcelFile(file_p[0])\n",
    "for sheet_count in range(0,22):\n",
    "    df_p = df_p.append(pd.read_excel(xls_p, sheet_name = sheet_count, usecols = ['FTR', 'B365H', 'B365D', 'B365A', \n",
    "                                                                                'BWH', 'BWD', 'BWA', 'IWH', 'IWD', 'IWA', \n",
    "                                                                                'WHH', 'WHD', 'WHA', 'VCH', 'VCD', 'VCA',\n",
    "                                                                               'PSH', 'PSD', 'PSA', 'PSCH', 'PSCD', 'PSCA']))"
   ]
  },
  {
   "cell_type": "code",
   "execution_count": 12,
   "metadata": {},
   "outputs": [],
   "source": [
    "df_p['FTR'] = df_p['FTR'].replace('H',0)\n",
    "df_p['FTR'] = df_p['FTR'].replace('D',1)\n",
    "df_p['FTR'] = df_p['FTR'].replace('A',2)"
   ]
  },
  {
   "cell_type": "code",
   "execution_count": 13,
   "metadata": {},
   "outputs": [],
   "source": [
    "# cancello le righe con elementi vuoti\n",
    "ndf_p = df_p.dropna()"
   ]
  },
  {
   "cell_type": "code",
   "execution_count": 14,
   "metadata": {},
   "outputs": [],
   "source": [
    "# salvo in un dataframe a singola colonna i risultati per confrontarli con quelli predetti\n",
    "\n",
    "target_p = pd.DataFrame(index=[],columns=[])\n",
    "target_p = target_p.append(ndf_p[['FTR']])"
   ]
  },
  {
   "cell_type": "code",
   "execution_count": 15,
   "metadata": {},
   "outputs": [],
   "source": [
    "ndf_p = ndf_p.drop(['FTR'],axis=1)"
   ]
  },
  {
   "cell_type": "code",
   "execution_count": 16,
   "metadata": {},
   "outputs": [],
   "source": [
    "# normalizzo i dati \n",
    "npdata = preprocessing.normalize(ndf_p)\n",
    "npdata = npdata.astype('float')\n",
    "npdata_df = pd.DataFrame(npdata, columns = ndf_p.columns)"
   ]
  },
  {
   "cell_type": "code",
   "execution_count": 17,
   "metadata": {},
   "outputs": [],
   "source": [
    "prediction = model.predict(npdata_df)"
   ]
  },
  {
   "cell_type": "code",
   "execution_count": 18,
   "metadata": {},
   "outputs": [],
   "source": [
    "# resetto gli indici \n",
    "ntarget_p = target_p.reset_index()\n",
    "NEWdf_p = ndf_p.reset_index()"
   ]
  },
  {
   "cell_type": "code",
   "execution_count": 26,
   "metadata": {},
   "outputs": [],
   "source": [
    "correct = 0\n",
    "oddsH = pd.DataFrame(index=[],columns=[])\n",
    "HW = 0\n",
    "oddsD = pd.DataFrame(index=[],columns=[])\n",
    "D = 0\n",
    "oddsA = pd.DataFrame(index=[],columns=[])\n",
    "AW = 0\n",
    "\n",
    "for i in range (len(prediction)):\n",
    "    \n",
    "    if (prediction[i] == ntarget_p.at[i,'FTR']):\n",
    "        correct += 1\n",
    "        \n",
    "        if(prediction[i] == 0):\n",
    "            HW += 1\n",
    "            oddsH = oddsH.append([[i,NEWdf_p.loc[[i],['B365H', 'BWH', 'IWH', 'WHH', 'VCH', 'PSH', 'PSCH']].values.max(),\n",
    "                                   NEWdf_p.loc[i,['B365H', 'BWH', 'IWH', 'WHH', 'VCH', 'PSH', 'PSCH']].idxmax(axis=1)]])\n",
    "            \n",
    "        if(prediction[i] == 1):\n",
    "            D += 1\n",
    "            oddsD = oddsD.append([[i,NEWdf_p.loc[[i],['B365D', 'BWD', 'IWD', 'WHD', 'VCD', 'PSD', 'PSCD']].values.max(),\n",
    "                                   NEWdf_p.loc[i,['B365D', 'BWD', 'IWD', 'WHD', 'VCD', 'PSD', 'PSCD']].idxmax(axis=1)]])\n",
    "        \n",
    "        if(prediction[i] == 2):\n",
    "            AW += 1\n",
    "            oddsA = oddsA.append([[i,NEWdf_p.loc[[i],['B365A', 'BWA', 'IWA', 'WHA', 'VCA', 'PSA', 'PSCA']].values.max(),\n",
    "                                   NEWdf_p.loc[i,['B365A', 'BWA', 'IWA', 'WHA', 'VCA', 'PSA', 'PSCA']].idxmax(axis=1)]])"
   ]
  },
  {
   "cell_type": "code",
   "execution_count": 27,
   "metadata": {},
   "outputs": [
    {
     "name": "stdout",
     "output_type": "stream",
     "text": [
      "583 302 429\n"
     ]
    }
   ],
   "source": [
    "# con un training set più grande diminuisce il numero di pareggi riconosciuto, aumentano HW e AW\n",
    "\n",
    "print(HW,D,AW)"
   ]
  },
  {
   "cell_type": "code",
   "execution_count": 28,
   "metadata": {},
   "outputs": [
    {
     "data": {
      "text/plain": [
       "2980.87"
      ]
     },
     "execution_count": 28,
     "metadata": {},
     "output_type": "execute_result"
    }
   ],
   "source": [
    "# somma delle quote delle partite categorizzate correttamente \n",
    "total_odds = oddsH[1].sum() + oddsD[1].sum() + oddsA[1].sum()\n",
    "total_odds"
   ]
  },
  {
   "cell_type": "code",
   "execution_count": 29,
   "metadata": {},
   "outputs": [
    {
     "data": {
      "text/plain": [
       "2.268546423135464"
      ]
     },
     "execution_count": 29,
     "metadata": {},
     "output_type": "execute_result"
    }
   ],
   "source": [
    "# quote medie\n",
    "average = total_odds / correct\n",
    "average"
   ]
  },
  {
   "cell_type": "code",
   "execution_count": 30,
   "metadata": {},
   "outputs": [
    {
     "data": {
      "text/plain": [
       "45.41997926028344"
      ]
     },
     "execution_count": 30,
     "metadata": {},
     "output_type": "execute_result"
    }
   ],
   "source": [
    "# percentuale di partite categorizzate correttamente \n",
    "perc = (correct / len(ntarget_p)) * 100\n",
    "perc"
   ]
  },
  {
   "cell_type": "code",
   "execution_count": 31,
   "metadata": {},
   "outputs": [
    {
     "data": {
      "text/plain": [
       "103.03733148980297"
      ]
     },
     "execution_count": 31,
     "metadata": {},
     "output_type": "execute_result"
    }
   ],
   "source": [
    "perc * average "
   ]
  },
  {
   "cell_type": "code",
   "execution_count": 32,
   "metadata": {},
   "outputs": [
    {
     "data": {
      "text/plain": [
       "1314"
      ]
     },
     "execution_count": 32,
     "metadata": {},
     "output_type": "execute_result"
    }
   ],
   "source": [
    "correct"
   ]
  },
  {
   "cell_type": "code",
   "execution_count": 25,
   "metadata": {},
   "outputs": [],
   "source": [
    "# overfitting?\n",
    "# i risultati ottenuti allenando il network coi soli dati del 2018 sono migliori rispetto a quelli per 6 anni con 5 bookmakers\n",
    "\n",
    "# su 3 anni con 7 bookmakers ottengo risultati molto incoraggianti...ma è un caso o ha un senso?"
   ]
  }
 ],
 "metadata": {
  "kernelspec": {
   "display_name": "Python 3",
   "language": "python",
   "name": "python3"
  },
  "language_info": {
   "codemirror_mode": {
    "name": "ipython",
    "version": 3
   },
   "file_extension": ".py",
   "mimetype": "text/x-python",
   "name": "python",
   "nbconvert_exporter": "python",
   "pygments_lexer": "ipython3",
   "version": "3.7.3"
  }
 },
 "nbformat": 4,
 "nbformat_minor": 2
}
